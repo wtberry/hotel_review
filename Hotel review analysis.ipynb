{
 "cells": [
  {
   "cell_type": "markdown",
   "metadata": {},
   "source": [
    "# Hotel Review Analysis\n",
    "\n",
    "This document is for me to help think through the idea of the hotel review insights project. \n",
    "\n",
    "## Overview\n",
    "Newly created / renovated hotels are in need of customer feedbacks, so that they can improve on thier service qualities and quantity offered. One way to gain such insight is through online customer reviews, but it is cumbersome and time consuming to go through every single reviews in order to extract feedbacks.<br>\n",
    "This project aims to gather and analyze the hotel's review data, and provide actionable insights that is substantiated by the analyzation to the hotel's managements.\n",
    "\n",
    "The extracted information should be mainly focused on quality of services provided, rather than that of hotel's facilities (buldings, designs etc). Cost of improving quality of service (mainly customer service) is significantly lower than that of improving physical assets by investing in renovations etc.\n",
    "\n",
    "## Targetted Hotel\n",
    "\n",
    "Hotels with less than 4 stars on various hotel review websites, that are in need of improvement, because of the impact the star rating value has for consumer decision.\n",
    "\n",
    "In this particular project, I will be analyzing reviews of [this hotel](https://www.yutorelo-nishiizu.com/).<br>\n",
    "Reasons why I've picked this hotel is because I was researching for Ryokans to stay during the winter vacation, and was almost convinced to click book based on their official website. However checking the reviews online revealed that there were mixed opinions, and noticed that manager of the hotel was checking every single comments and replying to almost all of them. <br>\n",
    "* [Examples of the bad reviews, feedbacks as well as responses from the hotel](https://review.travel.rakuten.co.jp/hotel/voice/151045/?f_time=&f_keyword=&f_age=0&f_sex=0&f_mem1=0&f_mem2=0&f_mem3=0&f_mem4=0&f_mem5=0&f_teikei=&f_static=1&f_sort=0&f_point=3)\n",
    "\n",
    "I've felt that it'd be very helpful for them to be able to have a bigger picture of the negative reviews.\n",
    "\n",
    "## Business Aspects\n",
    "\n",
    "### Possible Business Questions \n",
    "1. Where can the hotel improve on, in terms of services\n",
    "2. What are the major causes of dissatisfactions that customers have during their stay?\n",
    "3. What are low star reviews generally saying about services? (assuming the reviews are valid, not just emotional venting)\n",
    "4. Why is some reviews are 4 stars, but fails to achieve 5 stars? -> This one's lowest priority, since the target of this project are hotels with lower than 4 star reviews.\n",
    "\n",
    "### Possible Action Plans\n",
    "Here are some examples of using the anlaysis to improve the service.\n",
    "* Prioritizing customer service types that needs further improvement, which can be detailed down to / by\n",
    "    * demography of visitor - different types of visitor hold different expectations towards services\n",
    "    * date / time / season of the stay - different customer service type priorities for each season, to serve changing needs and expectations. \n",
    "    \n",
    "* ranking general importance of customer service types, in order to train the employees accordingly. \n",
    "\n",
    "## Technical / Analytical Aspects\n",
    "\n",
    "We can identify topics and its corresponding sentiments that are related to customer services provided (or not provided yet) in the hotel. These data can be further broken down or analyzed by the following features.\n",
    "* demography of visitor\n",
    "* reviews date / seasons\n",
    "* star rating\n",
    "* service type\n",
    "    * meals\n",
    "    * staff's hospitality and communication\n",
    "    * cleaness\n",
    "* Various evaluation metrics that are provided by each review websites, such as staff, location, price, etc.\n",
    "* more granular topics or service types found by topic modeling.\n",
    "\n",
    "**Validity and Credibility of Reviews:** Note that all of the reviews should be filtered beforehand in order to make sure that they're \"sensible\" and \"constructive feedback\" type of reviews, and not emotional rant. This might be possible by filtering out reviews that scored extreme negative on general sentiment analysis, or simply detecting occurence of certain words (curse words or something of that nature).\n",
    "\n",
    "\n",
    "## Data Collection\n",
    "\n",
    "Possible data source would be from online hotel / travel platform, such as tripadvisor, or じゃらん. List of the site to collect reviews are followings.\n",
    "* [じゃらん](https://www.jalan.net/yad348923/kuchikomi/?screenId=UWW3001&yadNo=348923&smlCd=211402&distCd=01) - 286\n",
    "* [楽天トラベル](https://travel.rakuten.co.jp/HOTEL/151045/review.html) - 104\n",
    "* [booking.com](https://www.booking.com/hotel/jp/yutorelo-nishiizu.ja.html#tab-reviews) - 236\n",
    "* [一休](https://www.ikyu.com/caz/00030964/#review-modal) - 28 reviews\n",
    "* [ozmall](https://www.ozmall.co.jp/travel/stay/560/review/) - 276 reviews\n",
    "* [travel advisor](https://www.tripadvisor.jp/Hotel_Review-g790340-d8824353-Reviews-Yutoriro_Nishiizu-Izu_Shizuoka_Prefecture_Tokai_Chubu.html#REVIEWS) - 33\n",
    "\n",
    "Twitter is also an other source of data.\n",
    "\n",
    "Total of 963 reviews.<br>\n",
    "\n",
    "\n",
    "## Possible Technologies or Approaches to be Used \n",
    "In this project, simple sentiment analysis is not enough to gain insights. We'd like to know the reason behind certain sentiment, what is causing them and how to fix it. <br>\n",
    "Topic modeling can be used in order to extract the topics within review corpus, and aspect mining can be applied to gain sentiment related to each topic. \n",
    "\n",
    "* **Aspect Mining**<br>\n",
    "    * [aspect based opinion mining](https://medium.com/@pmin91/aspect-based-opinion-mining-nlp-with-python-a53eb4752800) - this looks very like this problem. Analyze the revivew text, and get sentiments and frequencies mentioned on each categories on restaurant services, such as food, service, atmospher etc.\n",
    "    * [Text mining customer reviews for aspect-based restaurant rating](https://arxiv.org/abs/1901.01642)\n",
    "        * similar to the above approach, academic paper though.\n",
    "* **Topic Modeling** - unsupervised technique to identify document's topics based on word occurences. \n",
    "    * [Sagemaker Neural Topic Modeling](https://docs.aws.amazon.com/sagemaker/latest/dg/ntm.html)"
   ]
  },
  {
   "cell_type": "code",
   "execution_count": 1,
   "metadata": {},
   "outputs": [
    {
     "name": "stdout",
     "output_type": "stream",
     "text": [
      "42\n"
     ]
    }
   ],
   "source": []
  }
 ],
 "metadata": {
  "kernelspec": {
   "display_name": "Python 3",
   "language": "python",
   "name": "python3"
  },
  "language_info": {
   "codemirror_mode": {
    "name": "ipython",
    "version": 3
   },
   "file_extension": ".py",
   "mimetype": "text/x-python",
   "name": "python",
   "nbconvert_exporter": "python",
   "pygments_lexer": "ipython3",
   "version": "3.6.9"
  }
 },
 "nbformat": 4,
 "nbformat_minor": 2
}
